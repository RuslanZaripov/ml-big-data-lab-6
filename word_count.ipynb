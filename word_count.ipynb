{
 "cells": [
  {
   "cell_type": "code",
   "execution_count": 1,
   "id": "77d5ab47",
   "metadata": {},
   "outputs": [],
   "source": [
    "import os\n",
    "os.environ['PYSPARK_SUBMIT_ARGS'] = '--packages com.datastax.spark:spark-cassandra-connector_2.12:3.0.0-beta --conf spark.cassandra.connection.host=cassandra pyspark-shell'"
   ]
  },
  {
   "cell_type": "code",
   "execution_count": 2,
   "id": "96e72ca8",
   "metadata": {},
   "outputs": [],
   "source": [
    "from pyspark.sql import SparkSession\n",
    "from pyspark.sql.functions import split, explode, lower, col\n",
    "from pyspark.ml.feature import StopWordsRemover\n",
    "from collections import Counter"
   ]
  },
  {
   "cell_type": "code",
   "execution_count": 3,
   "id": "3872690b",
   "metadata": {},
   "outputs": [],
   "source": [
    "# Spark session & context\n",
    "spark = SparkSession.builder.master(\"local\") \\\n",
    "    .master(\"local[*]\") \\\n",
    "    .config(\"spark.driver.memory\", \"2g\") \\\n",
    "    .config(\"spark.executor.instances\", \"4\") \\\n",
    "    .config(\"spark.sql.execution.arrow.pyspark.enabled\", \"true\") \\\n",
    "    .config(\"spark.dynamicAllocation.enabled\", \"true\") \\\n",
    "    .config(\"spark.dynamicAllocation.minExecutors\", \"1\") \\\n",
    "    .config(\"spark.dynamicAllocation.maxExecutors\", \"6\") \\\n",
    "    .config(\"spark.cassandra.connection.host\", \"cassandra-1,cassandra-2,cassandra-3\") \\\n",
    "    .config(\"spark.cassandra.connection.port\", \"9042\") \\\n",
    "    .config(\"spark.cassandra.connection.timeout_ms\", \"30000\") \\\n",
    "    .config(\"spark.cassandra.query.retry.count\", \"10\") \\\n",
    "    .config(\"spark.cassandra.connection.reconnection_delay_ms.min\", \"1000\") \\\n",
    "    .config(\"spark.cassandra.connection.reconnection_delay_ms.max\", \"60000\") \\\n",
    "    .getOrCreate()\n",
    "    \n",
    "sc = spark.sparkContext"
   ]
  },
  {
   "cell_type": "code",
   "execution_count": 4,
   "id": "a3cde44d",
   "metadata": {},
   "outputs": [
    {
     "name": "stdout",
     "output_type": "stream",
     "text": [
      "total 10666752\n",
      "drwxrwxrwx 1 root   root          512 Apr 16 10:36 \u001b[0m\u001b[34;42m.\u001b[0m/\n",
      "drwxrwxrwx 1 root   root          512 Apr 21 09:52 \u001b[34;42m..\u001b[0m/\n",
      "-rwxrwxrwx 1 root   root  10915138215 Apr 14 06:31 \u001b[01;32men.openfoodfacts.org.products.csv\u001b[0m*\n",
      "-rwxrwxrwx 1 root   root      7614057 Apr 21 07:43 \u001b[01;32mgoogleplaystore_user_reviews.csv\u001b[0m*\n",
      "drwxr-xr-x 1 jovyan users         512 Apr 16 10:36 \u001b[01;34mkmeans_model\u001b[0m/\n"
     ]
    }
   ],
   "source": [
    "%ls -la ./sparkdata"
   ]
  },
  {
   "cell_type": "code",
   "execution_count": 7,
   "id": "1d6ff57a",
   "metadata": {},
   "outputs": [],
   "source": [
    "csv_path = \"./sparkdata/googleplaystore_user_reviews.csv\""
   ]
  },
  {
   "cell_type": "code",
   "execution_count": 5,
   "id": "b23c47e6",
   "metadata": {},
   "outputs": [
    {
     "name": "stdout",
     "output_type": "stream",
     "text": [
      "+-----------+--------------------------------------------+---------+-------------------+----------------------+------------------------------------------------+\n",
      "|indexcolumn|app                                         |sentiment|sentiment_polarity |sentiment_subjectivity|translated_review                               |\n",
      "+-----------+--------------------------------------------+---------+-------------------+----------------------+------------------------------------------------+\n",
      "|5715       |All Maths Formulas                          |Positive |1.0                |0.3                   |Best hardworking chaps                          |\n",
      "|5874       |All Video Downloader 2018                   |Neutral  |0.0                |0.0                   |Just I want                                     |\n",
      "|679        |2ndLine - Second Phone Number               |Positive |0.875              |0.6000000000000001    |Good business line! Now make wifi compatible    |\n",
      "|9264       |Ascape VR: 360° Virtual Travel              |NULL     |NULL               |NULL                  |NULL                                            |\n",
      "|5407       |AliExpress - Smarter Shopping, Better Living|Negative |-0.1818181818181818|0.75                  |You cant contact live chat.. even difficult chat|\n",
      "+-----------+--------------------------------------------+---------+-------------------+----------------------+------------------------------------------------+\n",
      "only showing top 5 rows\n",
      "\n"
     ]
    }
   ],
   "source": [
    "df = spark.read.format(\"org.apache.spark.sql.cassandra\") \\\n",
    "    .options(table=\"googleplaystore_user_reviews\", keyspace=\"mykeyspace\") \\\n",
    "    .load()\n",
    "    \n",
    "df.cache().show(5, False)"
   ]
  },
  {
   "cell_type": "code",
   "execution_count": 6,
   "id": "2d782ce5",
   "metadata": {},
   "outputs": [
    {
     "name": "stdout",
     "output_type": "stream",
     "text": [
      "Number of rows: 9610\n"
     ]
    }
   ],
   "source": [
    "print(\"Number of rows:\", df.count())"
   ]
  },
  {
   "cell_type": "code",
   "execution_count": 7,
   "id": "d8b3488d",
   "metadata": {},
   "outputs": [
    {
     "name": "stdout",
     "output_type": "stream",
     "text": [
      "+------+-----+\n",
      "|  word|count|\n",
      "+------+-----+\n",
      "|      | 3831|\n",
      "|  game| 1461|\n",
      "|   app|  916|\n",
      "|  good|  794|\n",
      "|  like|  785|\n",
      "| great|  778|\n",
      "|  love|  745|\n",
      "|   get|  717|\n",
      "|  time|  711|\n",
      "|update|  500|\n",
      "|really|  497|\n",
      "|   ads|  486|\n",
      "|  even|  461|\n",
      "|  play|  415|\n",
      "|     m|  386|\n",
      "|  work|  379|\n",
      "| phone|  372|\n",
      "|  easy|  362|\n",
      "|  also|  360|\n",
      "|  much|  354|\n",
      "+------+-----+\n",
      "only showing top 20 rows\n",
      "\n"
     ]
    }
   ],
   "source": [
    "# Tokenize the reviews\n",
    "df_words = df.withColumn(\"word\", explode(split(lower(col(\"Translated_Review\")), \"\\\\W+\")))\n",
    "\n",
    "# Remove stop words\n",
    "stop_words = set(StopWordsRemover.loadDefaultStopWords(\"english\"))  # Default English stop words\n",
    "df_filtered = df_words.filter(~df_words.word.isin(stop_words))\n",
    "\n",
    "# Count word frequency\n",
    "word_frequency = df_filtered.groupBy(\"word\").count().orderBy(col(\"count\").desc())\n",
    "\n",
    "# Display the top keywords\n",
    "word_frequency.show()\n",
    "\n",
    "# If you want to get the results in Python\n",
    "keywords_list = word_frequency.rdd.map(lambda row: (row.word, row.count)).collect()\n"
   ]
  },
  {
   "cell_type": "code",
   "execution_count": null,
   "id": "1088e881",
   "metadata": {},
   "outputs": [],
   "source": []
  }
 ],
 "metadata": {
  "kernelspec": {
   "display_name": "Python 3 (ipykernel)",
   "language": "python",
   "name": "python3"
  },
  "language_info": {
   "codemirror_mode": {
    "name": "ipython",
    "version": 3
   },
   "file_extension": ".py",
   "mimetype": "text/x-python",
   "name": "python",
   "nbconvert_exporter": "python",
   "pygments_lexer": "ipython3",
   "version": "3.11.6"
  }
 },
 "nbformat": 4,
 "nbformat_minor": 5
}
