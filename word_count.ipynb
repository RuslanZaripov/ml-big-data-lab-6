{
 "cells": [
  {
   "cell_type": "code",
   "execution_count": 11,
   "id": "96e72ca8",
   "metadata": {},
   "outputs": [],
   "source": [
    "from pyspark.sql import SparkSession\n",
    "from pyspark.sql.functions import split, explode, lower, col\n",
    "from pyspark.ml.feature import StopWordsRemover\n",
    "from collections import Counter"
   ]
  },
  {
   "cell_type": "code",
   "execution_count": 12,
   "id": "3872690b",
   "metadata": {},
   "outputs": [],
   "source": [
    "# Spark session & context\n",
    "spark = SparkSession.builder.master(\"local\").getOrCreate()\n",
    "sc = spark.sparkContext"
   ]
  },
  {
   "cell_type": "code",
   "execution_count": 14,
   "id": "a3cde44d",
   "metadata": {},
   "outputs": [
    {
     "name": "stdout",
     "output_type": "stream",
     "text": [
      "total 7496\n",
      "drwxrwxrwx 1 root root     512 Apr 14 17:28 \u001b[0m\u001b[34;42m.\u001b[0m/\n",
      "drwxr-xr-x 1 root root    4096 Apr 14 17:17 \u001b[01;34m..\u001b[0m/\n",
      "-rwxrwxrwx 1 root root 7669276 Apr 14 17:28 \u001b[01;32mgoogleplaystore_user_reviews.csv\u001b[0m*\n"
     ]
    }
   ],
   "source": [
    "%ls -la /sparkdata"
   ]
  },
  {
   "cell_type": "code",
   "execution_count": 16,
   "id": "1d6ff57a",
   "metadata": {},
   "outputs": [],
   "source": [
    "csv_path = \"/sparkdata/googleplaystore_user_reviews.csv\""
   ]
  },
  {
   "cell_type": "code",
   "execution_count": 17,
   "id": "b2ccfc25",
   "metadata": {},
   "outputs": [
    {
     "name": "stdout",
     "output_type": "stream",
     "text": [
      "+--------------------+--------------------+--------------------+-------------------+----------------------+\n",
      "|                 App|   Translated_Review|           Sentiment| Sentiment_Polarity|Sentiment_Subjectivity|\n",
      "+--------------------+--------------------+--------------------+-------------------+----------------------+\n",
      "|10 Best Foods for...|\"I like eat delic...| also \"\"Best Befo...|           Positive|                   1.0|\n",
      "|10 Best Foods for...|This help eating ...|            Positive|               0.25|   0.28846153846153844|\n",
      "|10 Best Foods for...|                 nan|                 nan|                nan|                   nan|\n",
      "|10 Best Foods for...|Works great espec...|            Positive|                0.4|                 0.875|\n",
      "|10 Best Foods for...|        Best idea us|            Positive|                1.0|                   0.3|\n",
      "|10 Best Foods for...|            Best way|            Positive|                1.0|                   0.3|\n",
      "|10 Best Foods for...|             Amazing|            Positive| 0.6000000000000001|                   0.9|\n",
      "|10 Best Foods for...|                 nan|                 nan|                nan|                   nan|\n",
      "|10 Best Foods for...|Looking forward app,|             Neutral|                0.0|                   0.0|\n",
      "|10 Best Foods for...|It helpful site !...|             Neutral|                0.0|                   0.0|\n",
      "|10 Best Foods for...|           good you.|            Positive|                0.7|    0.6000000000000001|\n",
      "|10 Best Foods for...|Useful informatio...|            Positive|                0.2|                   0.1|\n",
      "|10 Best Foods for...|Thank you! Great ...|            Positive|               0.75|                 0.875|\n",
      "|10 Best Foods for...|Greatest ever Com...|            Positive|          0.9921875|    0.8666666666666667|\n",
      "|10 Best Foods for...|Good health.........|            Positive| 0.5499999999999999|    0.5111111111111112|\n",
      "|10 Best Foods for...|                 nan|                 nan|                nan|                   nan|\n",
      "|10 Best Foods for...|Health It's impor...|            Positive|               0.45|                   1.0|\n",
      "|10 Best Foods for...|Mrs sunita bhati ...|            Positive|                0.6|    0.6666666666666666|\n",
      "|10 Best Foods for...|Very Useful in di...|            Positive|0.29500000000000004|                   0.1|\n",
      "|10 Best Foods for...|  One greatest apps.|            Positive|                1.0|                   1.0|\n",
      "+--------------------+--------------------+--------------------+-------------------+----------------------+\n",
      "only showing top 20 rows\n",
      "\n"
     ]
    }
   ],
   "source": [
    "df = spark.read.csv(csv_path, header=True, inferSchema=True)\n",
    "df.show()"
   ]
  },
  {
   "cell_type": "code",
   "execution_count": 18,
   "id": "2d782ce5",
   "metadata": {},
   "outputs": [
    {
     "name": "stdout",
     "output_type": "stream",
     "text": [
      "Number of rows: 64295\n"
     ]
    }
   ],
   "source": [
    "print(\"Number of rows:\", df.count())"
   ]
  },
  {
   "cell_type": "code",
   "execution_count": 19,
   "id": "d8b3488d",
   "metadata": {},
   "outputs": [
    {
     "name": "stdout",
     "output_type": "stream",
     "text": [
      "+------+-----+\n",
      "|  word|count|\n",
      "+------+-----+\n",
      "|   nan|26863|\n",
      "|      |22489|\n",
      "|  game| 9326|\n",
      "|  like| 5427|\n",
      "|  good| 5243|\n",
      "|   app| 4941|\n",
      "| great| 4775|\n",
      "|  love| 4672|\n",
      "|   get| 4644|\n",
      "|  time| 4480|\n",
      "|really| 3067|\n",
      "|  even| 2828|\n",
      "|   ads| 2630|\n",
      "|     m| 2522|\n",
      "|update| 2498|\n",
      "|  play| 2442|\n",
      "| phone| 2419|\n",
      "|please| 2362|\n",
      "|  work| 2316|\n",
      "|  also| 2292|\n",
      "+------+-----+\n",
      "only showing top 20 rows\n",
      "\n"
     ]
    }
   ],
   "source": [
    "# Tokenize the reviews\n",
    "df_words = df.withColumn(\"word\", explode(split(lower(col(\"Translated_Review\")), \"\\\\W+\")))\n",
    "\n",
    "# Remove stop words\n",
    "stop_words = set(StopWordsRemover.loadDefaultStopWords(\"english\"))  # Default English stop words\n",
    "df_filtered = df_words.filter(~df_words.word.isin(stop_words))\n",
    "\n",
    "# Count word frequency\n",
    "word_frequency = df_filtered.groupBy(\"word\").count().orderBy(col(\"count\").desc())\n",
    "\n",
    "# Display the top keywords\n",
    "word_frequency.show()\n",
    "\n",
    "# If you want to get the results in Python\n",
    "keywords_list = word_frequency.rdd.map(lambda row: (row.word, row.count)).collect()\n"
   ]
  },
  {
   "cell_type": "code",
   "execution_count": null,
   "id": "1088e881",
   "metadata": {},
   "outputs": [],
   "source": []
  }
 ],
 "metadata": {
  "kernelspec": {
   "display_name": "Python 3 (ipykernel)",
   "language": "python",
   "name": "python3"
  },
  "language_info": {
   "codemirror_mode": {
    "name": "ipython",
    "version": 3
   },
   "file_extension": ".py",
   "mimetype": "text/x-python",
   "name": "python",
   "nbconvert_exporter": "python",
   "pygments_lexer": "ipython3",
   "version": "3.11.6"
  }
 },
 "nbformat": 4,
 "nbformat_minor": 5
}
