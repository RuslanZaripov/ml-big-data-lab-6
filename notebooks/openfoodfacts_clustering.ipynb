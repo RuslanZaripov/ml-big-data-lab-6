{
 "cells": [
  {
   "cell_type": "code",
   "execution_count": 1,
   "id": "65c6ab95",
   "metadata": {},
   "outputs": [
    {
     "name": "stdout",
     "output_type": "stream",
     "text": [
      "Note: you may need to restart the kernel to use updated packages.\n"
     ]
    }
   ],
   "source": [
    "%pip install -q python-dotenv"
   ]
  },
  {
   "cell_type": "code",
   "execution_count": 2,
   "id": "ef807d40",
   "metadata": {},
   "outputs": [],
   "source": [
    "import os\n",
    "import matplotlib.pyplot as plt\n",
    "import seaborn as sns\n",
    "import configparser\n",
    "from tqdm.auto import tqdm\n",
    "from dotenv import load_dotenv\n",
    "from functools import reduce\n",
    "from pyspark.sql import SparkSession\n",
    "from pyspark.conf import SparkConf\n",
    "from pyspark.sql.functions import col, length, max\n",
    "from pyspark.sql.types import StringType\n",
    "from pyspark.ml.feature import VectorAssembler\n",
    "from pyspark.ml.clustering import KMeans\n",
    "from pyspark.ml.evaluation import ClusteringEvaluator"
   ]
  },
  {
   "cell_type": "code",
   "execution_count": 3,
   "id": "aae6d8b8",
   "metadata": {},
   "outputs": [
    {
     "data": {
      "text/plain": [
       "True"
      ]
     },
     "execution_count": 3,
     "metadata": {},
     "output_type": "execute_result"
    }
   ],
   "source": [
    "load_dotenv()"
   ]
  },
  {
   "cell_type": "code",
   "execution_count": 4,
   "id": "f22cfd37",
   "metadata": {},
   "outputs": [
    {
     "data": {
      "text/plain": [
       "('cassandra', '9042', 'mykeyspace', 'openfoodfacts')"
      ]
     },
     "execution_count": 4,
     "metadata": {},
     "output_type": "execute_result"
    }
   ],
   "source": [
    "KEYSPACE = os.environ[\"CASSANDRA_KEYSPACE\"]\n",
    "IP_ADDRESS = os.environ[\"CASSANDRA_IP_ADDRESS\"]\n",
    "PORT = os.environ[\"CASSANDRA_PORT\"]\n",
    "TABLE = \"openfoodfacts\"\n",
    "spark_config_apth = 'conf/spark.ini'\n",
    "IP_ADDRESS, PORT, KEYSPACE, TABLE"
   ]
  },
  {
   "cell_type": "code",
   "execution_count": 5,
   "id": "1c38945a",
   "metadata": {},
   "outputs": [
    {
     "data": {
      "text/plain": [
       "[('spark.master', 'local[*]'),\n",
       " ('spark.driver.memory', '1g'),\n",
       " ('spark.executor.memory', '1g'),\n",
       " ('spark.executor.instances', '4'),\n",
       " ('spark.sql.execution.arrow.pyspark.enabled', 'true'),\n",
       " ('spark.dynamicAllocation.enabled', 'true'),\n",
       " ('spark.dynamicAllocation.minExecutors', '1'),\n",
       " ('spark.dynamicAllocation.maxExecutors', '6'),\n",
       " ('spark.jars.packages',\n",
       "  'com.datastax.spark:spark-cassandra-connector_2.12:3.5.1')]"
      ]
     },
     "execution_count": 5,
     "metadata": {},
     "output_type": "execute_result"
    }
   ],
   "source": [
    "config = configparser.ConfigParser()\n",
    "config.optionxform=str\n",
    "config.read(spark_config_apth)\n",
    "list(config['spark'].items())"
   ]
  },
  {
   "cell_type": "code",
   "execution_count": 6,
   "id": "650665ca",
   "metadata": {},
   "outputs": [
    {
     "data": {
      "text/plain": [
       "<pyspark.conf.SparkConf at 0x7f4d8ccedc10>"
      ]
     },
     "execution_count": 6,
     "metadata": {},
     "output_type": "execute_result"
    }
   ],
   "source": [
    "conf = SparkConf()\n",
    "conf.setAll(list(config['spark'].items()))"
   ]
  },
  {
   "cell_type": "code",
   "execution_count": 9,
   "id": "ea888c26",
   "metadata": {},
   "outputs": [],
   "source": [
    "spark = SparkSession.builder.config(conf=conf) \\\n",
    "    .config(\"spark.cassandra.input.fetch.sizeInRows\", 1000) \\\n",
    "    .config(\"spark.cassandra.input.split.sizeInMB\", 32) \\\n",
    "    .config(\"spark.cassandra.query.retry.count\", -1) \\\n",
    "    .config(\"spark.cassandra.connection.host\", IP_ADDRESS) \\\n",
    "    .config(\"spark.cassandra.connection.port\", PORT) \\\n",
    "    .getOrCreate()\n",
    "    \n",
    "sc = spark.sparkContext"
   ]
  },
  {
   "cell_type": "code",
   "execution_count": 10,
   "id": "5f2d3735",
   "metadata": {},
   "outputs": [],
   "source": [
    "useful_cols = [\n",
    "    'code',\n",
    "    'energy_kcal_100g',\n",
    "    'fat_100g',\n",
    "    'carbohydrates_100g',\n",
    "    'sugars_100g',\n",
    "    'proteins_100g',\n",
    "    'salt_100g',\n",
    "    'sodium_100g',\n",
    "]"
   ]
  },
  {
   "cell_type": "code",
   "execution_count": 11,
   "id": "9e1a96e7",
   "metadata": {},
   "outputs": [
    {
     "ename": "Py4JJavaError",
     "evalue": "An error occurred while calling o58.showString.\n: org.apache.spark.SparkException: Job aborted due to stage failure: Task 10 in stage 0.0 failed 1 times, most recent failure: Lost task 10.0 in stage 0.0 (TID 10) (d6c6506bf07e executor driver): com.datastax.oss.driver.api.core.servererrors.ReadFailureException: Cassandra failure during read query at consistency LOCAL_ONE (1 responses were required but only 0 replica responded, 1 failed)\n\nDriver stacktrace:\n\tat org.apache.spark.scheduler.DAGScheduler.failJobAndIndependentStages(DAGScheduler.scala:2844)\n\tat org.apache.spark.scheduler.DAGScheduler.$anonfun$abortStage$2(DAGScheduler.scala:2780)\n\tat org.apache.spark.scheduler.DAGScheduler.$anonfun$abortStage$2$adapted(DAGScheduler.scala:2779)\n\tat scala.collection.mutable.ResizableArray.foreach(ResizableArray.scala:62)\n\tat scala.collection.mutable.ResizableArray.foreach$(ResizableArray.scala:55)\n\tat scala.collection.mutable.ArrayBuffer.foreach(ArrayBuffer.scala:49)\n\tat org.apache.spark.scheduler.DAGScheduler.abortStage(DAGScheduler.scala:2779)\n\tat org.apache.spark.scheduler.DAGScheduler.$anonfun$handleTaskSetFailed$1(DAGScheduler.scala:1242)\n\tat org.apache.spark.scheduler.DAGScheduler.$anonfun$handleTaskSetFailed$1$adapted(DAGScheduler.scala:1242)\n\tat scala.Option.foreach(Option.scala:407)\n\tat org.apache.spark.scheduler.DAGScheduler.handleTaskSetFailed(DAGScheduler.scala:1242)\n\tat org.apache.spark.scheduler.DAGSchedulerEventProcessLoop.doOnReceive(DAGScheduler.scala:3048)\n\tat org.apache.spark.scheduler.DAGSchedulerEventProcessLoop.onReceive(DAGScheduler.scala:2982)\n\tat org.apache.spark.scheduler.DAGSchedulerEventProcessLoop.onReceive(DAGScheduler.scala:2971)\n\tat org.apache.spark.util.EventLoop$$anon$1.run(EventLoop.scala:49)\nCaused by: com.datastax.oss.driver.api.core.servererrors.ReadFailureException: Cassandra failure during read query at consistency LOCAL_ONE (1 responses were required but only 0 replica responded, 1 failed)\n",
     "output_type": "error",
     "traceback": [
      "\u001b[0;31m---------------------------------------------------------------------------\u001b[0m",
      "\u001b[0;31mPy4JJavaError\u001b[0m                             Traceback (most recent call last)",
      "Cell \u001b[0;32mIn[11], line 5\u001b[0m\n\u001b[1;32m      1\u001b[0m df \u001b[38;5;241m=\u001b[39m spark\u001b[38;5;241m.\u001b[39mread\u001b[38;5;241m.\u001b[39mformat(\u001b[38;5;124m\"\u001b[39m\u001b[38;5;124morg.apache.spark.sql.cassandra\u001b[39m\u001b[38;5;124m\"\u001b[39m) \\\n\u001b[1;32m      2\u001b[0m     \u001b[38;5;241m.\u001b[39moptions(table\u001b[38;5;241m=\u001b[39mTABLE, keyspace\u001b[38;5;241m=\u001b[39mKEYSPACE) \\\n\u001b[1;32m      3\u001b[0m     \u001b[38;5;241m.\u001b[39mload()\n\u001b[0;32m----> 5\u001b[0m \u001b[43mdf\u001b[49m\u001b[38;5;241;43m.\u001b[39;49m\u001b[43mcache\u001b[49m\u001b[43m(\u001b[49m\u001b[43m)\u001b[49m\u001b[38;5;241;43m.\u001b[39;49m\u001b[43mshow\u001b[49m\u001b[43m(\u001b[49m\u001b[38;5;241;43m5\u001b[39;49m\u001b[43m,\u001b[49m\u001b[43m \u001b[49m\u001b[38;5;28;43;01mFalse\u001b[39;49;00m\u001b[43m)\u001b[49m\n",
      "File \u001b[0;32m/usr/local/spark/python/pyspark/sql/dataframe.py:972\u001b[0m, in \u001b[0;36mDataFrame.show\u001b[0;34m(self, n, truncate, vertical)\u001b[0m\n\u001b[1;32m    963\u001b[0m \u001b[38;5;28;01mexcept\u001b[39;00m \u001b[38;5;167;01mValueError\u001b[39;00m:\n\u001b[1;32m    964\u001b[0m     \u001b[38;5;28;01mraise\u001b[39;00m PySparkTypeError(\n\u001b[1;32m    965\u001b[0m         error_class\u001b[38;5;241m=\u001b[39m\u001b[38;5;124m\"\u001b[39m\u001b[38;5;124mNOT_BOOL\u001b[39m\u001b[38;5;124m\"\u001b[39m,\n\u001b[1;32m    966\u001b[0m         message_parameters\u001b[38;5;241m=\u001b[39m{\n\u001b[0;32m   (...)\u001b[0m\n\u001b[1;32m    969\u001b[0m         },\n\u001b[1;32m    970\u001b[0m     )\n\u001b[0;32m--> 972\u001b[0m \u001b[38;5;28mprint\u001b[39m(\u001b[38;5;28;43mself\u001b[39;49m\u001b[38;5;241;43m.\u001b[39;49m\u001b[43m_jdf\u001b[49m\u001b[38;5;241;43m.\u001b[39;49m\u001b[43mshowString\u001b[49m\u001b[43m(\u001b[49m\u001b[43mn\u001b[49m\u001b[43m,\u001b[49m\u001b[43m \u001b[49m\u001b[43mint_truncate\u001b[49m\u001b[43m,\u001b[49m\u001b[43m \u001b[49m\u001b[43mvertical\u001b[49m\u001b[43m)\u001b[49m)\n",
      "File \u001b[0;32m/usr/local/spark/python/lib/py4j-0.10.9.7-src.zip/py4j/java_gateway.py:1322\u001b[0m, in \u001b[0;36mJavaMember.__call__\u001b[0;34m(self, *args)\u001b[0m\n\u001b[1;32m   1316\u001b[0m command \u001b[38;5;241m=\u001b[39m proto\u001b[38;5;241m.\u001b[39mCALL_COMMAND_NAME \u001b[38;5;241m+\u001b[39m\\\n\u001b[1;32m   1317\u001b[0m     \u001b[38;5;28mself\u001b[39m\u001b[38;5;241m.\u001b[39mcommand_header \u001b[38;5;241m+\u001b[39m\\\n\u001b[1;32m   1318\u001b[0m     args_command \u001b[38;5;241m+\u001b[39m\\\n\u001b[1;32m   1319\u001b[0m     proto\u001b[38;5;241m.\u001b[39mEND_COMMAND_PART\n\u001b[1;32m   1321\u001b[0m answer \u001b[38;5;241m=\u001b[39m \u001b[38;5;28mself\u001b[39m\u001b[38;5;241m.\u001b[39mgateway_client\u001b[38;5;241m.\u001b[39msend_command(command)\n\u001b[0;32m-> 1322\u001b[0m return_value \u001b[38;5;241m=\u001b[39m \u001b[43mget_return_value\u001b[49m\u001b[43m(\u001b[49m\n\u001b[1;32m   1323\u001b[0m \u001b[43m    \u001b[49m\u001b[43manswer\u001b[49m\u001b[43m,\u001b[49m\u001b[43m \u001b[49m\u001b[38;5;28;43mself\u001b[39;49m\u001b[38;5;241;43m.\u001b[39;49m\u001b[43mgateway_client\u001b[49m\u001b[43m,\u001b[49m\u001b[43m \u001b[49m\u001b[38;5;28;43mself\u001b[39;49m\u001b[38;5;241;43m.\u001b[39;49m\u001b[43mtarget_id\u001b[49m\u001b[43m,\u001b[49m\u001b[43m \u001b[49m\u001b[38;5;28;43mself\u001b[39;49m\u001b[38;5;241;43m.\u001b[39;49m\u001b[43mname\u001b[49m\u001b[43m)\u001b[49m\n\u001b[1;32m   1325\u001b[0m \u001b[38;5;28;01mfor\u001b[39;00m temp_arg \u001b[38;5;129;01min\u001b[39;00m temp_args:\n\u001b[1;32m   1326\u001b[0m     \u001b[38;5;28;01mif\u001b[39;00m \u001b[38;5;28mhasattr\u001b[39m(temp_arg, \u001b[38;5;124m\"\u001b[39m\u001b[38;5;124m_detach\u001b[39m\u001b[38;5;124m\"\u001b[39m):\n",
      "File \u001b[0;32m/usr/local/spark/python/pyspark/errors/exceptions/captured.py:179\u001b[0m, in \u001b[0;36mcapture_sql_exception.<locals>.deco\u001b[0;34m(*a, **kw)\u001b[0m\n\u001b[1;32m    177\u001b[0m \u001b[38;5;28;01mdef\u001b[39;00m \u001b[38;5;21mdeco\u001b[39m(\u001b[38;5;241m*\u001b[39ma: Any, \u001b[38;5;241m*\u001b[39m\u001b[38;5;241m*\u001b[39mkw: Any) \u001b[38;5;241m-\u001b[39m\u001b[38;5;241m>\u001b[39m Any:\n\u001b[1;32m    178\u001b[0m     \u001b[38;5;28;01mtry\u001b[39;00m:\n\u001b[0;32m--> 179\u001b[0m         \u001b[38;5;28;01mreturn\u001b[39;00m \u001b[43mf\u001b[49m\u001b[43m(\u001b[49m\u001b[38;5;241;43m*\u001b[39;49m\u001b[43ma\u001b[49m\u001b[43m,\u001b[49m\u001b[43m \u001b[49m\u001b[38;5;241;43m*\u001b[39;49m\u001b[38;5;241;43m*\u001b[39;49m\u001b[43mkw\u001b[49m\u001b[43m)\u001b[49m\n\u001b[1;32m    180\u001b[0m     \u001b[38;5;28;01mexcept\u001b[39;00m Py4JJavaError \u001b[38;5;28;01mas\u001b[39;00m e:\n\u001b[1;32m    181\u001b[0m         converted \u001b[38;5;241m=\u001b[39m convert_exception(e\u001b[38;5;241m.\u001b[39mjava_exception)\n",
      "File \u001b[0;32m/usr/local/spark/python/lib/py4j-0.10.9.7-src.zip/py4j/protocol.py:326\u001b[0m, in \u001b[0;36mget_return_value\u001b[0;34m(answer, gateway_client, target_id, name)\u001b[0m\n\u001b[1;32m    324\u001b[0m value \u001b[38;5;241m=\u001b[39m OUTPUT_CONVERTER[\u001b[38;5;28mtype\u001b[39m](answer[\u001b[38;5;241m2\u001b[39m:], gateway_client)\n\u001b[1;32m    325\u001b[0m \u001b[38;5;28;01mif\u001b[39;00m answer[\u001b[38;5;241m1\u001b[39m] \u001b[38;5;241m==\u001b[39m REFERENCE_TYPE:\n\u001b[0;32m--> 326\u001b[0m     \u001b[38;5;28;01mraise\u001b[39;00m Py4JJavaError(\n\u001b[1;32m    327\u001b[0m         \u001b[38;5;124m\"\u001b[39m\u001b[38;5;124mAn error occurred while calling \u001b[39m\u001b[38;5;132;01m{0}\u001b[39;00m\u001b[38;5;132;01m{1}\u001b[39;00m\u001b[38;5;132;01m{2}\u001b[39;00m\u001b[38;5;124m.\u001b[39m\u001b[38;5;130;01m\\n\u001b[39;00m\u001b[38;5;124m\"\u001b[39m\u001b[38;5;241m.\u001b[39m\n\u001b[1;32m    328\u001b[0m         \u001b[38;5;28mformat\u001b[39m(target_id, \u001b[38;5;124m\"\u001b[39m\u001b[38;5;124m.\u001b[39m\u001b[38;5;124m\"\u001b[39m, name), value)\n\u001b[1;32m    329\u001b[0m \u001b[38;5;28;01melse\u001b[39;00m:\n\u001b[1;32m    330\u001b[0m     \u001b[38;5;28;01mraise\u001b[39;00m Py4JError(\n\u001b[1;32m    331\u001b[0m         \u001b[38;5;124m\"\u001b[39m\u001b[38;5;124mAn error occurred while calling \u001b[39m\u001b[38;5;132;01m{0}\u001b[39;00m\u001b[38;5;132;01m{1}\u001b[39;00m\u001b[38;5;132;01m{2}\u001b[39;00m\u001b[38;5;124m. Trace:\u001b[39m\u001b[38;5;130;01m\\n\u001b[39;00m\u001b[38;5;132;01m{3}\u001b[39;00m\u001b[38;5;130;01m\\n\u001b[39;00m\u001b[38;5;124m\"\u001b[39m\u001b[38;5;241m.\u001b[39m\n\u001b[1;32m    332\u001b[0m         \u001b[38;5;28mformat\u001b[39m(target_id, \u001b[38;5;124m\"\u001b[39m\u001b[38;5;124m.\u001b[39m\u001b[38;5;124m\"\u001b[39m, name, value))\n",
      "\u001b[0;31mPy4JJavaError\u001b[0m: An error occurred while calling o58.showString.\n: org.apache.spark.SparkException: Job aborted due to stage failure: Task 10 in stage 0.0 failed 1 times, most recent failure: Lost task 10.0 in stage 0.0 (TID 10) (d6c6506bf07e executor driver): com.datastax.oss.driver.api.core.servererrors.ReadFailureException: Cassandra failure during read query at consistency LOCAL_ONE (1 responses were required but only 0 replica responded, 1 failed)\n\nDriver stacktrace:\n\tat org.apache.spark.scheduler.DAGScheduler.failJobAndIndependentStages(DAGScheduler.scala:2844)\n\tat org.apache.spark.scheduler.DAGScheduler.$anonfun$abortStage$2(DAGScheduler.scala:2780)\n\tat org.apache.spark.scheduler.DAGScheduler.$anonfun$abortStage$2$adapted(DAGScheduler.scala:2779)\n\tat scala.collection.mutable.ResizableArray.foreach(ResizableArray.scala:62)\n\tat scala.collection.mutable.ResizableArray.foreach$(ResizableArray.scala:55)\n\tat scala.collection.mutable.ArrayBuffer.foreach(ArrayBuffer.scala:49)\n\tat org.apache.spark.scheduler.DAGScheduler.abortStage(DAGScheduler.scala:2779)\n\tat org.apache.spark.scheduler.DAGScheduler.$anonfun$handleTaskSetFailed$1(DAGScheduler.scala:1242)\n\tat org.apache.spark.scheduler.DAGScheduler.$anonfun$handleTaskSetFailed$1$adapted(DAGScheduler.scala:1242)\n\tat scala.Option.foreach(Option.scala:407)\n\tat org.apache.spark.scheduler.DAGScheduler.handleTaskSetFailed(DAGScheduler.scala:1242)\n\tat org.apache.spark.scheduler.DAGSchedulerEventProcessLoop.doOnReceive(DAGScheduler.scala:3048)\n\tat org.apache.spark.scheduler.DAGSchedulerEventProcessLoop.onReceive(DAGScheduler.scala:2982)\n\tat org.apache.spark.scheduler.DAGSchedulerEventProcessLoop.onReceive(DAGScheduler.scala:2971)\n\tat org.apache.spark.util.EventLoop$$anon$1.run(EventLoop.scala:49)\nCaused by: com.datastax.oss.driver.api.core.servererrors.ReadFailureException: Cassandra failure during read query at consistency LOCAL_ONE (1 responses were required but only 0 replica responded, 1 failed)\n"
     ]
    }
   ],
   "source": [
    "df = spark.read.format(\"org.apache.spark.sql.cassandra\") \\\n",
    "    .options(table=TABLE, keyspace=KEYSPACE) \\\n",
    "    .load()\n",
    "    \n",
    "df.cache().show(5, False)"
   ]
  },
  {
   "cell_type": "code",
   "execution_count": 27,
   "id": "63cddda4",
   "metadata": {},
   "outputs": [
    {
     "data": {
      "text/plain": [
       "0"
      ]
     },
     "execution_count": 27,
     "metadata": {},
     "output_type": "execute_result"
    }
   ],
   "source": [
    "df.count()"
   ]
  },
  {
   "cell_type": "code",
   "execution_count": 12,
   "id": "d388b987",
   "metadata": {},
   "outputs": [
    {
     "data": {
      "text/plain": [
       "207"
      ]
     },
     "execution_count": 12,
     "metadata": {},
     "output_type": "execute_result"
    }
   ],
   "source": [
    "len(df.columns)"
   ]
  },
  {
   "cell_type": "code",
   "execution_count": 13,
   "id": "edffb448",
   "metadata": {},
   "outputs": [
    {
     "data": {
      "text/plain": [
       "351"
      ]
     },
     "execution_count": 13,
     "metadata": {},
     "output_type": "execute_result"
    }
   ],
   "source": [
    "df.rdd.getNumPartitions()"
   ]
  },
  {
   "cell_type": "code",
   "execution_count": 9,
   "id": "212e6997",
   "metadata": {},
   "outputs": [
    {
     "data": {
      "text/plain": [
       "DataFrame[code: string, abbreviated_product_name: string, acidity_100g: string, added_salt_100g: string, added_sugars_100g: string, additives: string, additives_en: string, additives_n: string, additives_tags: string, alcohol_100g: string, allergens: string, allergens_en: string, alpha_linolenic_acid_100g: string, arachidic_acid_100g: string, arachidonic_acid_100g: string, behenic_acid_100g: string, beta_carotene_100g: string, beta_glucan_100g: string, bicarbonate_100g: string, biotin_100g: string, brand_owner: string, brands: string, brands_en: string, brands_tags: string, butyric_acid_100g: string, caffeine_100g: string, calcium_100g: string, capric_acid_100g: string, caproic_acid_100g: string, caprylic_acid_100g: string, carbohydrates_100g: string, carbon_footprint_100g: string, carbon_footprint_from_meat_or_fish_100g: string, carnitine_100g: string, casein_100g: string, categories: string, categories_en: string, categories_tags: string, cerotic_acid_100g: string, chloride_100g: string, chlorophyl_100g: string, cholesterol_100g: string, choline_100g: string, chromium_100g: string, cities: string, cities_tags: string, cocoa_100g: string, collagen_meat_protein_ratio_100g: string, completeness: string, copper_100g: string, countries: string, countries_en: string, countries_tags: string, created_datetime: string, created_t: string, creator: string, data_quality_errors_tags: string, dihomo_gamma_linolenic_acid_100g: string, docosahexaenoic_acid_100g: string, eicosapentaenoic_acid_100g: string, elaidic_acid_100g: string, emb_codes: string, emb_codes_tags: string, energy_100g: string, energy_from_fat_100g: string, energy_kcal_100g: string, energy_kj_100g: string, environmental_score_grade: string, environmental_score_score: string, erucic_acid_100g: string, erythritol_100g: string, fat_100g: string, fiber_100g: string, first_packaging_code_geo: string, fluoride_100g: string, folates_100g: string, food_groups: string, food_groups_en: string, food_groups_tags: string, fructose_100g: string, fruits_vegetables_nuts_100g: string, fruits_vegetables_nuts_dried_100g: string, fruits_vegetables_nuts_estimate_100g: string, fruits_vegetables_nuts_estimate_from_ingredients_100g: string, gamma_linolenic_acid_100g: string, generic_name: string, glucose_100g: string, glycemic_index_100g: string, gondoic_acid_100g: string, image_ingredients_small_url: string, image_ingredients_url: string, image_nutrition_small_url: string, image_nutrition_url: string, image_small_url: string, image_url: string, ingredients_analysis_tags: string, ingredients_tags: string, ingredients_text: string, inositol_100g: string, insoluble_fiber_100g: string, iodine_100g: string, iron_100g: string, labels: string, labels_en: string, labels_tags: string, lactose_100g: string, last_image_datetime: string, last_image_t: string, last_modified_by: string, last_modified_datetime: string, last_modified_t: string, last_updated_datetime: string, last_updated_t: string, lauric_acid_100g: string, lignoceric_acid_100g: string, linoleic_acid_100g: string, magnesium_100g: string, main_category: string, main_category_en: string, maltodextrins_100g: string, maltose_100g: string, manganese_100g: string, manufacturing_places: string, manufacturing_places_tags: string, mead_acid_100g: string, melissic_acid_100g: string, molybdenum_100g: string, monounsaturated_fat_100g: string, montanic_acid_100g: string, myristic_acid_100g: string, nervonic_acid_100g: string, nitrate_100g: string, no_nutrition_data: string, nova_group: string, nucleotides_100g: string, nutrient_levels_tags: string, nutriscore_grade: string, nutriscore_score: string, nutrition_score_fr_100g: string, nutrition_score_uk_100g: string, oleic_acid_100g: string, omega_3_fat_100g: string, omega_6_fat_100g: string, omega_9_fat_100g: string, origins: string, origins_en: string, origins_tags: string, owner: string, packaging: string, packaging_en: string, packaging_tags: string, packaging_text: string, palmitic_acid_100g: string, pantothenic_acid_100g: string, ph_100g: string, phosphorus_100g: string, phylloquinone_100g: string, pnns_groups_1: string, pnns_groups_2: string, polyols_100g: string, polyunsaturated_fat_100g: string, popularity_tags: string, potassium_100g: string, product_name: string, product_quantity: string, proteins_100g: string, purchase_places: string, quantity: string, salt_100g: string, saturated_fat_100g: string, selenium_100g: string, serum_proteins_100g: string, serving_quantity: string, serving_size: string, silica_100g: string, sodium_100g: string, soluble_fiber_100g: string, starch_100g: string, states: string, states_en: string, states_tags: string, stearic_acid_100g: string, stores: string, sucrose_100g: string, sugars_100g: string, sulphate_100g: string, taurine_100g: string, traces: string, traces_en: string, traces_tags: string, trans_fat_100g: string, unique_scans_n: string, unsaturated_fat_100g: string, url: string, vitamin_a_100g: string, vitamin_b12_100g: string, vitamin_b1_100g: string, vitamin_b2_100g: string, vitamin_b6_100g: string, vitamin_b9_100g: string, vitamin_c_100g: string, vitamin_d_100g: string, vitamin_e_100g: string, vitamin_k_100g: string, vitamin_pp_100g: string, water_hardness_100g: string, zinc_100g: string]"
      ]
     },
     "execution_count": 9,
     "metadata": {},
     "output_type": "execute_result"
    }
   ],
   "source": [
    "df.unpersist()"
   ]
  },
  {
   "cell_type": "code",
   "execution_count": 25,
   "id": "2c703266",
   "metadata": {},
   "outputs": [],
   "source": [
    "spark.stop()"
   ]
  },
  {
   "cell_type": "code",
   "execution_count": 42,
   "id": "4997ecdf",
   "metadata": {},
   "outputs": [
    {
     "data": {
      "text/plain": [
       "['energy-kcal_100g',\n",
       " 'fat_100g',\n",
       " 'carbohydrates_100g',\n",
       " 'sugars_100g',\n",
       " 'proteins_100g',\n",
       " 'salt_100g',\n",
       " 'sodium_100g']"
      ]
     },
     "execution_count": 42,
     "metadata": {},
     "output_type": "execute_result"
    }
   ],
   "source": [
    "metadata_cols = ['code']\n",
    "feature_cols = [c for c in useful_cols if c not in metadata_cols]\n",
    "feature_cols"
   ]
  },
  {
   "cell_type": "code",
   "execution_count": null,
   "id": "7d6b5250",
   "metadata": {},
   "outputs": [],
   "source": [
    "cluster_count = config['model']['k']\n",
    "seed = config['model']['seed']\n",
    "\n",
    "kmeans = KMeans(k=cluster_count).setSeed(seed)"
   ]
  },
  {
   "cell_type": "code",
   "execution_count": 44,
   "id": "2fa3cf3f",
   "metadata": {},
   "outputs": [
    {
     "name": "stdout",
     "output_type": "stream",
     "text": [
      "+-----+----------------+--------+------------------+-----------+-------------+---------+-----------+--------------------+\n",
      "| code|energy-kcal_100g|fat_100g|carbohydrates_100g|sugars_100g|proteins_100g|salt_100g|sodium_100g|            features|\n",
      "+-----+----------------+--------+------------------+-----------+-------------+---------+-----------+--------------------+\n",
      "| 63.0|           332.0|    25.0|               3.0|        1.0|         23.0|      1.2|       0.48|[332.0,25.0,3.0,1...|\n",
      "|  2.0|           335.0|     5.6|               7.5|        6.2|          2.3|      0.4|       0.16|[335.0,5.6,7.5,6....|\n",
      "|  4.0|           100.0|     0.0|              26.0|       15.0|          1.0|      0.0|        0.0|[100.0,0.0,26.0,1...|\n",
      "|475.0|           222.0|     0.0|              50.8|       50.6|          0.8|      0.0|        0.0|[222.0,0.0,50.8,5...|\n",
      "|  5.0|           376.0|     1.6|               6.7|        1.3|         82.0|      1.7|       0.68|[376.0,1.6,6.7,1....|\n",
      "|  6.0|           230.0|    11.0|              25.0|       0.98|         22.0|     0.95|       0.38|[230.0,11.0,25.0,...|\n",
      "|  7.0|             1.0|     1.0|               1.0|        1.0|          1.0|      1.0|        0.4|[1.0,1.0,1.0,1.0,...|\n",
      "|  8.0|           358.0|     2.0|               6.7|        1.7|         76.0|      1.5|        0.6|[358.0,2.0,6.7,1....|\n",
      "|  9.0|            16.0|     0.5|               2.0|       0.24|          1.0|      0.3|       0.12|[16.0,0.5,2.0,0.2...|\n",
      "| 10.0|           428.0|    26.5|              36.9|       35.5|          1.3|    0.013|     0.0052|[428.0,26.5,36.9,...|\n",
      "| 13.0|            45.0|    13.0|              15.0|        3.6|         11.0|   0.0625|      0.025|[45.0,13.0,15.0,3...|\n",
      "| 15.0|           460.0|    24.0|              54.0|       31.0|          6.4|     0.48|      0.192|[460.0,24.0,54.0,...|\n",
      "| 17.0|           364.0|    18.2|              27.3|       4.55|         90.9|     1.48|      0.591|[364.0,18.2,27.3,...|\n",
      "| 20.0|           356.0|    22.2|              26.7|       2.22|         26.7|     0.75|        0.3|[356.0,22.2,26.7,...|\n",
      "| 22.0|           389.0|    16.7|              35.2|       1.85|         37.0|     0.88|      0.352|[389.0,16.7,35.2,...|\n",
      "| 23.0|            32.0|     0.0|               7.9|        7.9|          0.0|      0.0|        0.0|(7,[0,2,3],[32.0,...|\n",
      "| 26.0|           286.0|    5.36|              28.6|       25.0|         35.7|     2.68|       1.07|[286.0,5.36,28.6,...|\n",
      "| 29.0|           900.0|   100.0|               0.0|        0.0|          0.0|    0.075|       0.03|[900.0,100.0,0.0,...|\n",
      "| 31.0|             6.0|     0.3|               0.5|        0.2|          0.3|      0.8|       0.32|[6.0,0.3,0.5,0.2,...|\n",
      "| 36.0|           467.0|    26.0|              51.0|       29.0|          6.7|     1.13|      0.452|[467.0,26.0,51.0,...|\n",
      "+-----+----------------+--------+------------------+-----------+-------------+---------+-----------+--------------------+\n",
      "only showing top 20 rows\n",
      "\n"
     ]
    }
   ],
   "source": [
    "cluster_df = VectorAssembler(\n",
    "    inputCols=feature_cols, \n",
    "    outputCol=\"features\").transform(df)\n",
    "cluster_df.show()"
   ]
  },
  {
   "cell_type": "code",
   "execution_count": 45,
   "id": "cfd15b46",
   "metadata": {},
   "outputs": [],
   "source": [
    "model = kmeans.fit(cluster_df)"
   ]
  },
  {
   "cell_type": "code",
   "execution_count": 46,
   "id": "63f9ae10",
   "metadata": {},
   "outputs": [
    {
     "data": {
      "text/plain": [
       "True"
      ]
     },
     "execution_count": 46,
     "metadata": {},
     "output_type": "execute_result"
    }
   ],
   "source": [
    "model.hasSummary"
   ]
  },
  {
   "cell_type": "code",
   "execution_count": 47,
   "id": "d04ee994",
   "metadata": {},
   "outputs": [
    {
     "data": {
      "text/plain": [
       "5"
      ]
     },
     "execution_count": 47,
     "metadata": {},
     "output_type": "execute_result"
    }
   ],
   "source": [
    "model.summary.k"
   ]
  },
  {
   "cell_type": "code",
   "execution_count": 48,
   "id": "bbc2e729",
   "metadata": {},
   "outputs": [
    {
     "data": {
      "text/plain": [
       "[2291437, 1, 1, 0, 0]"
      ]
     },
     "execution_count": 48,
     "metadata": {},
     "output_type": "execute_result"
    }
   ],
   "source": [
    "model.summary.clusterSizes"
   ]
  },
  {
   "cell_type": "code",
   "execution_count": 49,
   "id": "04f38070",
   "metadata": {},
   "outputs": [
    {
     "data": {
      "image/png": "[encoded data removed]",
      "text/plain": [
       "<Figure size 1200x600 with 1 Axes>"
      ]
     },
     "metadata": {},
     "output_type": "display_data"
    }
   ],
   "source": [
    "plt.figure(figsize=(12, 6))\n",
    "sns.boxplot(data=df.drop(*metadata_cols).toPandas(), orient='h', palette=\"Set2\")\n",
    "plt.show()"
   ]
  },
  {
   "cell_type": "code",
   "execution_count": 51,
   "id": "f640fe5e",
   "metadata": {},
   "outputs": [
    {
     "name": "stdout",
     "output_type": "stream",
     "text": [
      "+-----+----------------+--------+------------------+-----------+-------------+---------+-----------+\n",
      "| code|energy-kcal_100g|fat_100g|carbohydrates_100g|sugars_100g|proteins_100g|salt_100g|sodium_100g|\n",
      "+-----+----------------+--------+------------------+-----------+-------------+---------+-----------+\n",
      "| 63.0|           332.0|    25.0|               3.0|        1.0|         23.0|      1.2|       0.48|\n",
      "|  2.0|           335.0|     5.6|               7.5|        6.2|          2.3|      0.4|       0.16|\n",
      "|  4.0|           100.0|     0.0|              26.0|       15.0|          1.0|      0.0|        0.0|\n",
      "|475.0|           222.0|     0.0|              50.8|       50.6|          0.8|      0.0|        0.0|\n",
      "|  5.0|           376.0|     1.6|               6.7|        1.3|         82.0|      1.7|       0.68|\n",
      "|  6.0|           230.0|    11.0|              25.0|       0.98|         22.0|     0.95|       0.38|\n",
      "|  7.0|             1.0|     1.0|               1.0|        1.0|          1.0|      1.0|        0.4|\n",
      "|  8.0|           358.0|     2.0|               6.7|        1.7|         76.0|      1.5|        0.6|\n",
      "|  9.0|            16.0|     0.5|               2.0|       0.24|          1.0|      0.3|       0.12|\n",
      "| 10.0|           428.0|    26.5|              36.9|       35.5|          1.3|    0.013|     0.0052|\n",
      "| 13.0|            45.0|    13.0|              15.0|        3.6|         11.0|   0.0625|      0.025|\n",
      "| 15.0|           460.0|    24.0|              54.0|       31.0|          6.4|     0.48|      0.192|\n",
      "| 17.0|           364.0|    18.2|              27.3|       4.55|         90.9|     1.48|      0.591|\n",
      "| 20.0|           356.0|    22.2|              26.7|       2.22|         26.7|     0.75|        0.3|\n",
      "| 22.0|           389.0|    16.7|              35.2|       1.85|         37.0|     0.88|      0.352|\n",
      "| 23.0|            32.0|     0.0|               7.9|        7.9|          0.0|      0.0|        0.0|\n",
      "| 26.0|           286.0|    5.36|              28.6|       25.0|         35.7|     2.68|       1.07|\n",
      "| 29.0|           900.0|   100.0|               0.0|        0.0|          0.0|    0.075|       0.03|\n",
      "| 31.0|             6.0|     0.3|               0.5|        0.2|          0.3|      0.8|       0.32|\n",
      "| 36.0|           467.0|    26.0|              51.0|       29.0|          6.7|     1.13|      0.452|\n",
      "+-----+----------------+--------+------------------+-----------+-------------+---------+-----------+\n",
      "only showing top 20 rows\n",
      "\n"
     ]
    }
   ],
   "source": [
    "# an energy-amount of more than 1000kcal \n",
    "# (the maximum amount of energy a product can have; \n",
    "# in this case it would conists of 100% fat)\n",
    "df = df.filter(col('energy-kcal_100g') < 1000)\n",
    "df.show()"
   ]
  },
  {
   "cell_type": "code",
   "execution_count": 52,
   "id": "e133c30e",
   "metadata": {},
   "outputs": [
    {
     "data": {
      "image/png": "[encoded data removed]",
      "text/plain": [
       "<Figure size 1200x600 with 1 Axes>"
      ]
     },
     "metadata": {},
     "output_type": "display_data"
    }
   ],
   "source": [
    "plt.figure(figsize=(12, 6))\n",
    "sns.boxplot(\n",
    "    data=df.drop(*metadata_cols).toPandas(), \n",
    "    orient='h', \n",
    "    palette=\"Set2\")\n",
    "plt.show()"
   ]
  },
  {
   "cell_type": "code",
   "execution_count": 55,
   "id": "40453733",
   "metadata": {},
   "outputs": [
    {
     "name": "stdout",
     "output_type": "stream",
     "text": [
      "['fat_100g', 'carbohydrates_100g', 'sugars_100g', 'proteins_100g', 'salt_100g', 'sodium_100g']\n"
     ]
    },
    {
     "data": {
      "image/png": "[encoded data removed]",
      "text/plain": [
       "<Figure size 1200x600 with 1 Axes>"
      ]
     },
     "metadata": {},
     "output_type": "display_data"
    }
   ],
   "source": [
    "# a feature (except for the energy-ones) higher than 100g\n",
    "columns_to_filter = [c for c in df.columns if c != 'energy-kcal_100g' and c not in metadata_cols]\n",
    "print(columns_to_filter)\n",
    "\n",
    "condition = reduce(\n",
    "    lambda a, b: a & (col(b) < 100),\n",
    "    columns_to_filter,\n",
    "    col(columns_to_filter[0]) < 100 \n",
    ")\n",
    "\n",
    "plt.figure(figsize=(12, 6))\n",
    "sns.boxplot(data=df.filter(condition).drop(*metadata_cols).toPandas(), orient='h', palette=\"Set2\")\n",
    "plt.show()"
   ]
  },
  {
   "cell_type": "code",
   "execution_count": 56,
   "id": "7fa8af78",
   "metadata": {},
   "outputs": [
    {
     "name": "stdout",
     "output_type": "stream",
     "text": [
      "+-----+----------------+--------+------------------+-----------+-------------+---------+-----------+\n",
      "| code|energy-kcal_100g|fat_100g|carbohydrates_100g|sugars_100g|proteins_100g|salt_100g|sodium_100g|\n",
      "+-----+----------------+--------+------------------+-----------+-------------+---------+-----------+\n",
      "| 63.0|           332.0|    25.0|               3.0|        1.0|         23.0|      1.2|       0.48|\n",
      "|  2.0|           335.0|     5.6|               7.5|        6.2|          2.3|      0.4|       0.16|\n",
      "|  4.0|           100.0|     0.0|              26.0|       15.0|          1.0|      0.0|        0.0|\n",
      "|475.0|           222.0|     0.0|              50.8|       50.6|          0.8|      0.0|        0.0|\n",
      "|  5.0|           376.0|     1.6|               6.7|        1.3|         82.0|      1.7|       0.68|\n",
      "|  6.0|           230.0|    11.0|              25.0|       0.98|         22.0|     0.95|       0.38|\n",
      "|  7.0|             1.0|     1.0|               1.0|        1.0|          1.0|      1.0|        0.4|\n",
      "|  8.0|           358.0|     2.0|               6.7|        1.7|         76.0|      1.5|        0.6|\n",
      "|  9.0|            16.0|     0.5|               2.0|       0.24|          1.0|      0.3|       0.12|\n",
      "| 10.0|           428.0|    26.5|              36.9|       35.5|          1.3|    0.013|     0.0052|\n",
      "| 13.0|            45.0|    13.0|              15.0|        3.6|         11.0|   0.0625|      0.025|\n",
      "| 15.0|           460.0|    24.0|              54.0|       31.0|          6.4|     0.48|      0.192|\n",
      "| 17.0|           364.0|    18.2|              27.3|       4.55|         90.9|     1.48|      0.591|\n",
      "| 20.0|           356.0|    22.2|              26.7|       2.22|         26.7|     0.75|        0.3|\n",
      "| 22.0|           389.0|    16.7|              35.2|       1.85|         37.0|     0.88|      0.352|\n",
      "| 23.0|            32.0|     0.0|               7.9|        7.9|          0.0|      0.0|        0.0|\n",
      "| 26.0|           286.0|    5.36|              28.6|       25.0|         35.7|     2.68|       1.07|\n",
      "| 31.0|             6.0|     0.3|               0.5|        0.2|          0.3|      0.8|       0.32|\n",
      "| 36.0|           467.0|    26.0|              51.0|       29.0|          6.7|     1.13|      0.452|\n",
      "| 41.0|           126.0|     6.1|               3.1|        0.5|         22.4|     0.49|      0.196|\n",
      "+-----+----------------+--------+------------------+-----------+-------------+---------+-----------+\n",
      "only showing top 20 rows\n",
      "\n"
     ]
    }
   ],
   "source": [
    "# a feature (except for the energy-ones) higher than 100g\n",
    "df = df.filter(condition)\n",
    "df.show()"
   ]
  },
  {
   "cell_type": "code",
   "execution_count": 57,
   "id": "15ef75b0",
   "metadata": {},
   "outputs": [
    {
     "name": "stdout",
     "output_type": "stream",
     "text": [
      "+-----+----------------+--------+------------------+-----------+-------------+---------+-----------+\n",
      "| code|energy-kcal_100g|fat_100g|carbohydrates_100g|sugars_100g|proteins_100g|salt_100g|sodium_100g|\n",
      "+-----+----------------+--------+------------------+-----------+-------------+---------+-----------+\n",
      "| 63.0|           332.0|    25.0|               3.0|        1.0|         23.0|      1.2|       0.48|\n",
      "|  2.0|           335.0|     5.6|               7.5|        6.2|          2.3|      0.4|       0.16|\n",
      "|  4.0|           100.0|     0.0|              26.0|       15.0|          1.0|      0.0|        0.0|\n",
      "|475.0|           222.0|     0.0|              50.8|       50.6|          0.8|      0.0|        0.0|\n",
      "|  5.0|           376.0|     1.6|               6.7|        1.3|         82.0|      1.7|       0.68|\n",
      "|  6.0|           230.0|    11.0|              25.0|       0.98|         22.0|     0.95|       0.38|\n",
      "|  7.0|             1.0|     1.0|               1.0|        1.0|          1.0|      1.0|        0.4|\n",
      "|  8.0|           358.0|     2.0|               6.7|        1.7|         76.0|      1.5|        0.6|\n",
      "|  9.0|            16.0|     0.5|               2.0|       0.24|          1.0|      0.3|       0.12|\n",
      "| 10.0|           428.0|    26.5|              36.9|       35.5|          1.3|    0.013|     0.0052|\n",
      "| 13.0|            45.0|    13.0|              15.0|        3.6|         11.0|   0.0625|      0.025|\n",
      "| 15.0|           460.0|    24.0|              54.0|       31.0|          6.4|     0.48|      0.192|\n",
      "| 17.0|           364.0|    18.2|              27.3|       4.55|         90.9|     1.48|      0.591|\n",
      "| 20.0|           356.0|    22.2|              26.7|       2.22|         26.7|     0.75|        0.3|\n",
      "| 22.0|           389.0|    16.7|              35.2|       1.85|         37.0|     0.88|      0.352|\n",
      "| 23.0|            32.0|     0.0|               7.9|        7.9|          0.0|      0.0|        0.0|\n",
      "| 26.0|           286.0|    5.36|              28.6|       25.0|         35.7|     2.68|       1.07|\n",
      "| 31.0|             6.0|     0.3|               0.5|        0.2|          0.3|      0.8|       0.32|\n",
      "| 36.0|           467.0|    26.0|              51.0|       29.0|          6.7|     1.13|      0.452|\n",
      "| 41.0|           126.0|     6.1|               3.1|        0.5|         22.4|     0.49|      0.196|\n",
      "+-----+----------------+--------+------------------+-----------+-------------+---------+-----------+\n",
      "only showing top 20 rows\n",
      "\n"
     ]
    }
   ],
   "source": [
    "# a feature with a negative entry\n",
    "condition = reduce(\n",
    "    lambda a, b: a & (col(b) >= 0),\n",
    "    feature_cols,\n",
    "    col(feature_cols[0]) >= 0 \n",
    ")\n",
    "df = df.filter(condition)\n",
    "df.show()"
   ]
  },
  {
   "cell_type": "code",
   "execution_count": 58,
   "id": "a1bd6075",
   "metadata": {},
   "outputs": [
    {
     "name": "stdout",
     "output_type": "stream",
     "text": [
      "+-----+----------------+--------+------------------+-----------+-------------+---------+-----------+--------------------+\n",
      "| code|energy-kcal_100g|fat_100g|carbohydrates_100g|sugars_100g|proteins_100g|salt_100g|sodium_100g|            features|\n",
      "+-----+----------------+--------+------------------+-----------+-------------+---------+-----------+--------------------+\n",
      "| 63.0|           332.0|    25.0|               3.0|        1.0|         23.0|      1.2|       0.48|[332.0,25.0,3.0,1...|\n",
      "|  2.0|           335.0|     5.6|               7.5|        6.2|          2.3|      0.4|       0.16|[335.0,5.6,7.5,6....|\n",
      "|  4.0|           100.0|     0.0|              26.0|       15.0|          1.0|      0.0|        0.0|[100.0,0.0,26.0,1...|\n",
      "|475.0|           222.0|     0.0|              50.8|       50.6|          0.8|      0.0|        0.0|[222.0,0.0,50.8,5...|\n",
      "|  5.0|           376.0|     1.6|               6.7|        1.3|         82.0|      1.7|       0.68|[376.0,1.6,6.7,1....|\n",
      "|  6.0|           230.0|    11.0|              25.0|       0.98|         22.0|     0.95|       0.38|[230.0,11.0,25.0,...|\n",
      "|  7.0|             1.0|     1.0|               1.0|        1.0|          1.0|      1.0|        0.4|[1.0,1.0,1.0,1.0,...|\n",
      "|  8.0|           358.0|     2.0|               6.7|        1.7|         76.0|      1.5|        0.6|[358.0,2.0,6.7,1....|\n",
      "|  9.0|            16.0|     0.5|               2.0|       0.24|          1.0|      0.3|       0.12|[16.0,0.5,2.0,0.2...|\n",
      "| 10.0|           428.0|    26.5|              36.9|       35.5|          1.3|    0.013|     0.0052|[428.0,26.5,36.9,...|\n",
      "| 13.0|            45.0|    13.0|              15.0|        3.6|         11.0|   0.0625|      0.025|[45.0,13.0,15.0,3...|\n",
      "| 15.0|           460.0|    24.0|              54.0|       31.0|          6.4|     0.48|      0.192|[460.0,24.0,54.0,...|\n",
      "| 17.0|           364.0|    18.2|              27.3|       4.55|         90.9|     1.48|      0.591|[364.0,18.2,27.3,...|\n",
      "| 20.0|           356.0|    22.2|              26.7|       2.22|         26.7|     0.75|        0.3|[356.0,22.2,26.7,...|\n",
      "| 22.0|           389.0|    16.7|              35.2|       1.85|         37.0|     0.88|      0.352|[389.0,16.7,35.2,...|\n",
      "| 23.0|            32.0|     0.0|               7.9|        7.9|          0.0|      0.0|        0.0|(7,[0,2,3],[32.0,...|\n",
      "| 26.0|           286.0|    5.36|              28.6|       25.0|         35.7|     2.68|       1.07|[286.0,5.36,28.6,...|\n",
      "| 31.0|             6.0|     0.3|               0.5|        0.2|          0.3|      0.8|       0.32|[6.0,0.3,0.5,0.2,...|\n",
      "| 36.0|           467.0|    26.0|              51.0|       29.0|          6.7|     1.13|      0.452|[467.0,26.0,51.0,...|\n",
      "| 41.0|           126.0|     6.1|               3.1|        0.5|         22.4|     0.49|      0.196|[126.0,6.1,3.1,0....|\n",
      "+-----+----------------+--------+------------------+-----------+-------------+---------+-----------+--------------------+\n",
      "only showing top 20 rows\n",
      "\n"
     ]
    }
   ],
   "source": [
    "cluster_df = VectorAssembler(\n",
    "    inputCols=feature_cols, \n",
    "    outputCol=\"features\").transform(df)\n",
    "cluster_df.show()"
   ]
  },
  {
   "cell_type": "code",
   "execution_count": 59,
   "id": "0934ef7e",
   "metadata": {},
   "outputs": [],
   "source": [
    "model = kmeans.fit(cluster_df)"
   ]
  },
  {
   "cell_type": "code",
   "execution_count": 60,
   "id": "3ce14a09",
   "metadata": {},
   "outputs": [
    {
     "data": {
      "text/plain": [
       "[592510, 363524, 685968, 57432, 549888]"
      ]
     },
     "execution_count": 60,
     "metadata": {},
     "output_type": "execute_result"
    }
   ],
   "source": [
    "model.summary.clusterSizes"
   ]
  },
  {
   "cell_type": "code",
   "execution_count": 65,
   "id": "4fd4ea7f",
   "metadata": {},
   "outputs": [
    {
     "name": "stdout",
     "output_type": "stream",
     "text": [
      "+--------------------+----------+\n",
      "|            features|prediction|\n",
      "+--------------------+----------+\n",
      "|[332.0,25.0,3.0,1...|         0|\n",
      "|[335.0,5.6,7.5,6....|         0|\n",
      "|[100.0,0.0,26.0,1...|         2|\n",
      "|[222.0,0.0,50.8,5...|         4|\n",
      "|[376.0,1.6,6.7,1....|         0|\n",
      "|[230.0,11.0,25.0,...|         4|\n",
      "|[1.0,1.0,1.0,1.0,...|         2|\n",
      "|[358.0,2.0,6.7,1....|         0|\n",
      "|[16.0,0.5,2.0,0.2...|         2|\n",
      "|[428.0,26.5,36.9,...|         0|\n",
      "|[45.0,13.0,15.0,3...|         2|\n",
      "|[460.0,24.0,54.0,...|         1|\n",
      "|[364.0,18.2,27.3,...|         0|\n",
      "|[356.0,22.2,26.7,...|         0|\n",
      "|[389.0,16.7,35.2,...|         0|\n",
      "|(7,[0,2,3],[32.0,...|         2|\n",
      "|[286.0,5.36,28.6,...|         4|\n",
      "|[6.0,0.3,0.5,0.2,...|         2|\n",
      "|[467.0,26.0,51.0,...|         1|\n",
      "|[126.0,6.1,3.1,0....|         2|\n",
      "+--------------------+----------+\n",
      "only showing top 20 rows\n",
      "\n"
     ]
    }
   ],
   "source": [
    "transformed = model.transform(cluster_df).select(\"features\", \"prediction\")\n",
    "transformed.show()"
   ]
  },
  {
   "cell_type": "code",
   "execution_count": 72,
   "id": "2726df31",
   "metadata": {},
   "outputs": [],
   "source": [
    "from pyspark.ml.feature import StandardScaler\n",
    "from pyspark.ml import Pipeline\n",
    "from pyspark.sql.functions import udf\n",
    "from pyspark.sql.types import DoubleType"
   ]
  },
  {
   "cell_type": "code",
   "execution_count": 73,
   "id": "e0db50cd",
   "metadata": {},
   "outputs": [
    {
     "name": "stdout",
     "output_type": "stream",
     "text": [
      "Before Scaling :\n",
      "+-----+----------------+--------+------------------+-----------+-------------+---------+-----------+\n",
      "| code|energy-kcal_100g|fat_100g|carbohydrates_100g|sugars_100g|proteins_100g|salt_100g|sodium_100g|\n",
      "+-----+----------------+--------+------------------+-----------+-------------+---------+-----------+\n",
      "| 63.0|           332.0|    25.0|               3.0|        1.0|         23.0|      1.2|       0.48|\n",
      "|  2.0|           335.0|     5.6|               7.5|        6.2|          2.3|      0.4|       0.16|\n",
      "|  4.0|           100.0|     0.0|              26.0|       15.0|          1.0|      0.0|        0.0|\n",
      "|475.0|           222.0|     0.0|              50.8|       50.6|          0.8|      0.0|        0.0|\n",
      "|  5.0|           376.0|     1.6|               6.7|        1.3|         82.0|      1.7|       0.68|\n",
      "+-----+----------------+--------+------------------+-----------+-------------+---------+-----------+\n",
      "only showing top 5 rows\n",
      "\n",
      "After Scaling :\n",
      "+-----+----------------+--------+------------------+-----------+-------------+---------+-----------+-----------------------+---------------+-------------------------+------------------+--------------------+----------------+------------------+\n",
      "| code|energy-kcal_100g|fat_100g|carbohydrates_100g|sugars_100g|proteins_100g|salt_100g|sodium_100g|energy-kcal_100g_Scaled|fat_100g_Scaled|carbohydrates_100g_Scaled|sugars_100g_Scaled|proteins_100g_Scaled|salt_100g_Scaled|sodium_100g_Scaled|\n",
      "+-----+----------------+--------+------------------+-----------+-------------+---------+-----------+-----------------------+---------------+-------------------------+------------------+--------------------+----------------+------------------+\n",
      "| 63.0|           332.0|    25.0|               3.0|        1.0|         23.0|      1.2|       0.48|                  1.814|          1.546|                     0.11|             0.055|               2.098|           0.328|             0.328|\n",
      "|  2.0|           335.0|     5.6|               7.5|        6.2|          2.3|      0.4|       0.16|                   1.83|          0.346|                    0.276|             0.338|                0.21|           0.109|             0.109|\n",
      "|  4.0|           100.0|     0.0|              26.0|       15.0|          1.0|      0.0|        0.0|                  0.546|            0.0|                    0.957|             0.819|               0.091|             0.0|               0.0|\n",
      "|475.0|           222.0|     0.0|              50.8|       50.6|          0.8|      0.0|        0.0|                  1.213|            0.0|                     1.87|             2.762|               0.073|             0.0|               0.0|\n",
      "|  5.0|           376.0|     1.6|               6.7|        1.3|         82.0|      1.7|       0.68|                  2.054|          0.099|                    0.247|             0.071|               7.479|           0.465|             0.465|\n",
      "+-----+----------------+--------+------------------+-----------+-------------+---------+-----------+-----------------------+---------------+-------------------------+------------------+--------------------+----------------+------------------+\n",
      "only showing top 5 rows\n",
      "\n"
     ]
    }
   ],
   "source": [
    "unlist = udf(lambda x: round(float(list(x)[0]),3), DoubleType())\n",
    "\n",
    "print(\"Before Scaling :\")\n",
    "df.show(5)\n",
    "\n",
    "for i in feature_cols:\n",
    "    vect_col_name = f\"{i}_Vect\" \n",
    "    scaled_col_name = f\"{i}_Scaled\"\n",
    "    \n",
    "    assembler = VectorAssembler(\n",
    "        inputCols=[i], \n",
    "        outputCol=vect_col_name)\n",
    "\n",
    "    scaler = StandardScaler(\n",
    "        inputCol=vect_col_name, \n",
    "        outputCol=scaled_col_name)\n",
    "\n",
    "    pipeline = Pipeline(stages=[assembler, scaler])\n",
    "\n",
    "    df = pipeline.fit(df) \\\n",
    "            .transform(df) \\\n",
    "            .withColumn(scaled_col_name, unlist(scaled_col_name)) \\\n",
    "            .drop(vect_col_name)\n",
    "\n",
    "print(\"After Scaling :\")\n",
    "df.show(5)"
   ]
  },
  {
   "cell_type": "code",
   "execution_count": 75,
   "id": "548c2c90",
   "metadata": {},
   "outputs": [
    {
     "data": {
      "text/plain": [
       "['energy-kcal_100g_Scaled',\n",
       " 'fat_100g_Scaled',\n",
       " 'carbohydrates_100g_Scaled',\n",
       " 'sugars_100g_Scaled',\n",
       " 'proteins_100g_Scaled',\n",
       " 'salt_100g_Scaled',\n",
       " 'sodium_100g_Scaled']"
      ]
     },
     "execution_count": 75,
     "metadata": {},
     "output_type": "execute_result"
    }
   ],
   "source": [
    "scaled_cols = [c for c in df.columns if '_Scaled' in c]\n",
    "scaled_cols"
   ]
  },
  {
   "cell_type": "code",
   "execution_count": 76,
   "id": "ed789def",
   "metadata": {},
   "outputs": [
    {
     "name": "stdout",
     "output_type": "stream",
     "text": [
      "+-----+----------------+--------+------------------+-----------+-------------+---------+-----------+-----------------------+---------------+-------------------------+------------------+--------------------+----------------+------------------+--------------------+\n",
      "| code|energy-kcal_100g|fat_100g|carbohydrates_100g|sugars_100g|proteins_100g|salt_100g|sodium_100g|energy-kcal_100g_Scaled|fat_100g_Scaled|carbohydrates_100g_Scaled|sugars_100g_Scaled|proteins_100g_Scaled|salt_100g_Scaled|sodium_100g_Scaled|            features|\n",
      "+-----+----------------+--------+------------------+-----------+-------------+---------+-----------+-----------------------+---------------+-------------------------+------------------+--------------------+----------------+------------------+--------------------+\n",
      "| 63.0|           332.0|    25.0|               3.0|        1.0|         23.0|      1.2|       0.48|                  1.814|          1.546|                     0.11|             0.055|               2.098|           0.328|             0.328|[1.814,1.546,0.11...|\n",
      "|  2.0|           335.0|     5.6|               7.5|        6.2|          2.3|      0.4|       0.16|                   1.83|          0.346|                    0.276|             0.338|                0.21|           0.109|             0.109|[1.83,0.346,0.276...|\n",
      "|  4.0|           100.0|     0.0|              26.0|       15.0|          1.0|      0.0|        0.0|                  0.546|            0.0|                    0.957|             0.819|               0.091|             0.0|               0.0|[0.546,0.0,0.957,...|\n",
      "|475.0|           222.0|     0.0|              50.8|       50.6|          0.8|      0.0|        0.0|                  1.213|            0.0|                     1.87|             2.762|               0.073|             0.0|               0.0|[1.213,0.0,1.87,2...|\n",
      "|  5.0|           376.0|     1.6|               6.7|        1.3|         82.0|      1.7|       0.68|                  2.054|          0.099|                    0.247|             0.071|               7.479|           0.465|             0.465|[2.054,0.099,0.24...|\n",
      "|  6.0|           230.0|    11.0|              25.0|       0.98|         22.0|     0.95|       0.38|                  1.257|           0.68|                     0.92|             0.053|               2.007|            0.26|              0.26|[1.257,0.68,0.92,...|\n",
      "|  7.0|             1.0|     1.0|               1.0|        1.0|          1.0|      1.0|        0.4|                  0.005|          0.062|                    0.037|             0.055|               0.091|           0.274|             0.274|[0.005,0.062,0.03...|\n",
      "|  8.0|           358.0|     2.0|               6.7|        1.7|         76.0|      1.5|        0.6|                  1.956|          0.124|                    0.247|             0.093|               6.932|            0.41|              0.41|[1.956,0.124,0.24...|\n",
      "|  9.0|            16.0|     0.5|               2.0|       0.24|          1.0|      0.3|       0.12|                  0.087|          0.031|                    0.074|             0.013|               0.091|           0.082|             0.082|[0.087,0.031,0.07...|\n",
      "| 10.0|           428.0|    26.5|              36.9|       35.5|          1.3|    0.013|     0.0052|                  2.338|          1.639|                    1.358|             1.938|               0.119|           0.004|             0.004|[2.338,1.639,1.35...|\n",
      "| 13.0|            45.0|    13.0|              15.0|        3.6|         11.0|   0.0625|      0.025|                  0.246|          0.804|                    0.552|             0.197|               1.003|           0.017|             0.017|[0.246,0.804,0.55...|\n",
      "| 15.0|           460.0|    24.0|              54.0|       31.0|          6.4|     0.48|      0.192|                  2.513|          1.484|                    1.988|             1.692|               0.584|           0.131|             0.131|[2.513,1.484,1.98...|\n",
      "| 17.0|           364.0|    18.2|              27.3|       4.55|         90.9|     1.48|      0.591|                  1.989|          1.125|                    1.005|             0.248|               8.291|           0.405|             0.404|[1.989,1.125,1.00...|\n",
      "| 20.0|           356.0|    22.2|              26.7|       2.22|         26.7|     0.75|        0.3|                  1.945|          1.373|                    0.983|             0.121|               2.435|           0.205|             0.205|[1.945,1.373,0.98...|\n",
      "| 22.0|           389.0|    16.7|              35.2|       1.85|         37.0|     0.88|      0.352|                  2.125|          1.033|                    1.296|             0.101|               3.375|           0.241|             0.241|[2.125,1.033,1.29...|\n",
      "| 23.0|            32.0|     0.0|               7.9|        7.9|          0.0|      0.0|        0.0|                  0.175|            0.0|                    0.291|             0.431|                 0.0|             0.0|               0.0|(7,[0,2,3],[0.175...|\n",
      "| 26.0|           286.0|    5.36|              28.6|       25.0|         35.7|     2.68|       1.07|                  1.563|          0.331|                    1.053|             1.365|               3.256|           0.733|             0.732|[1.563,0.331,1.05...|\n",
      "| 31.0|             6.0|     0.3|               0.5|        0.2|          0.3|      0.8|       0.32|                  0.033|          0.019|                    0.018|             0.011|               0.027|           0.219|             0.219|[0.033,0.019,0.01...|\n",
      "| 36.0|           467.0|    26.0|              51.0|       29.0|          6.7|     1.13|      0.452|                  2.551|          1.608|                    1.877|             1.583|               0.611|           0.309|             0.309|[2.551,1.608,1.87...|\n",
      "| 41.0|           126.0|     6.1|               3.1|        0.5|         22.4|     0.49|      0.196|                  0.688|          0.377|                    0.114|             0.027|               2.043|           0.134|             0.134|[0.688,0.377,0.11...|\n",
      "+-----+----------------+--------+------------------+-----------+-------------+---------+-----------+-----------------------+---------------+-------------------------+------------------+--------------------+----------------+------------------+--------------------+\n",
      "only showing top 20 rows\n",
      "\n"
     ]
    }
   ],
   "source": [
    "cluster_df = VectorAssembler(\n",
    "    inputCols=scaled_cols, \n",
    "    outputCol=\"features\").transform(df)\n",
    "cluster_df.show()"
   ]
  },
  {
   "cell_type": "code",
   "execution_count": 77,
   "id": "1e6d132f",
   "metadata": {},
   "outputs": [
    {
     "name": "stderr",
     "output_type": "stream",
     "text": [
      "----------------------------------------\n",
      "Exception occurred during processing of request from ('127.0.0.1', 36246)\n",
      "ERROR:root:Exception while sending command.\n",
      "Traceback (most recent call last):\n",
      "  File \"/usr/local/spark/python/lib/py4j-0.10.9.7-src.zip/py4j/clientserver.py\", line 516, in send_command\n",
      "    raise Py4JNetworkError(\"Answer from Java side is empty\")\n",
      "py4j.protocol.Py4JNetworkError: Answer from Java side is empty\n",
      "\n",
      "During handling of the above exception, another exception occurred:\n",
      "\n",
      "Traceback (most recent call last):\n",
      "  File \"/usr/local/spark/python/lib/py4j-0.10.9.7-src.zip/py4j/java_gateway.py\", line 1038, in send_command\n",
      "    response = connection.send_command(command)\n",
      "               ^^^^^^^^^^^^^^^^^^^^^^^^^^^^^^^^\n",
      "  File \"/usr/local/spark/python/lib/py4j-0.10.9.7-src.zip/py4j/clientserver.py\", line 539, in send_command\n",
      "    raise Py4JNetworkError(\n",
      "py4j.protocol.Py4JNetworkError: Error while sending or receiving\n",
      "Traceback (most recent call last):\n",
      "  File \"/opt/conda/lib/python3.11/socketserver.py\", line 317, in _handle_request_noblock\n",
      "    self.process_request(request, client_address)\n",
      "  File \"/opt/conda/lib/python3.11/socketserver.py\", line 348, in process_request\n",
      "    self.finish_request(request, client_address)\n",
      "  File \"/opt/conda/lib/python3.11/socketserver.py\", line 361, in finish_request\n",
      "    self.RequestHandlerClass(request, client_address, self)\n",
      "  File \"/opt/conda/lib/python3.11/socketserver.py\", line 755, in __init__\n",
      "    self.handle()\n",
      "  File \"/usr/local/spark/python/pyspark/accumulators.py\", line 295, in handle\n",
      "    poll(accum_updates)\n",
      "  File \"/usr/local/spark/python/pyspark/accumulators.py\", line 267, in poll\n",
      "    if self.rfile in r and func():\n",
      "                           ^^^^^^\n",
      "  File \"/usr/local/spark/python/pyspark/accumulators.py\", line 271, in accum_updates\n",
      "    num_updates = read_int(self.rfile)\n",
      "                  ^^^^^^^^^^^^^^^^^^^^\n",
      "  File \"/usr/local/spark/python/pyspark/serializers.py\", line 596, in read_int\n",
      "    raise EOFError\n",
      "EOFError\n",
      "----------------------------------------\n"
     ]
    },
    {
     "ename": "Py4JError",
     "evalue": "An error occurred while calling o375.fit",
     "output_type": "error",
     "traceback": [
      "\u001b[0;31m---------------------------------------------------------------------------\u001b[0m",
      "\u001b[0;31mPy4JError\u001b[0m                                 Traceback (most recent call last)",
      "Cell \u001b[0;32mIn[77], line 1\u001b[0m\n\u001b[0;32m----> 1\u001b[0m model \u001b[38;5;241m=\u001b[39m \u001b[43mkmeans\u001b[49m\u001b[38;5;241;43m.\u001b[39;49m\u001b[43mfit\u001b[49m\u001b[43m(\u001b[49m\u001b[43mcluster_df\u001b[49m\u001b[43m)\u001b[49m\n",
      "File \u001b[0;32m/usr/local/spark/python/pyspark/ml/base.py:205\u001b[0m, in \u001b[0;36mEstimator.fit\u001b[0;34m(self, dataset, params)\u001b[0m\n\u001b[1;32m    203\u001b[0m         \u001b[38;5;28;01mreturn\u001b[39;00m \u001b[38;5;28mself\u001b[39m\u001b[38;5;241m.\u001b[39mcopy(params)\u001b[38;5;241m.\u001b[39m_fit(dataset)\n\u001b[1;32m    204\u001b[0m     \u001b[38;5;28;01melse\u001b[39;00m:\n\u001b[0;32m--> 205\u001b[0m         \u001b[38;5;28;01mreturn\u001b[39;00m \u001b[38;5;28;43mself\u001b[39;49m\u001b[38;5;241;43m.\u001b[39;49m\u001b[43m_fit\u001b[49m\u001b[43m(\u001b[49m\u001b[43mdataset\u001b[49m\u001b[43m)\u001b[49m\n\u001b[1;32m    206\u001b[0m \u001b[38;5;28;01melse\u001b[39;00m:\n\u001b[1;32m    207\u001b[0m     \u001b[38;5;28;01mraise\u001b[39;00m \u001b[38;5;167;01mTypeError\u001b[39;00m(\n\u001b[1;32m    208\u001b[0m         \u001b[38;5;124m\"\u001b[39m\u001b[38;5;124mParams must be either a param map or a list/tuple of param maps, \u001b[39m\u001b[38;5;124m\"\u001b[39m\n\u001b[1;32m    209\u001b[0m         \u001b[38;5;124m\"\u001b[39m\u001b[38;5;124mbut got \u001b[39m\u001b[38;5;132;01m%s\u001b[39;00m\u001b[38;5;124m.\u001b[39m\u001b[38;5;124m\"\u001b[39m \u001b[38;5;241m%\u001b[39m \u001b[38;5;28mtype\u001b[39m(params)\n\u001b[1;32m    210\u001b[0m     )\n",
      "File \u001b[0;32m/usr/local/spark/python/pyspark/ml/wrapper.py:381\u001b[0m, in \u001b[0;36mJavaEstimator._fit\u001b[0;34m(self, dataset)\u001b[0m\n\u001b[1;32m    380\u001b[0m \u001b[38;5;28;01mdef\u001b[39;00m \u001b[38;5;21m_fit\u001b[39m(\u001b[38;5;28mself\u001b[39m, dataset: DataFrame) \u001b[38;5;241m-\u001b[39m\u001b[38;5;241m>\u001b[39m JM:\n\u001b[0;32m--> 381\u001b[0m     java_model \u001b[38;5;241m=\u001b[39m \u001b[38;5;28;43mself\u001b[39;49m\u001b[38;5;241;43m.\u001b[39;49m\u001b[43m_fit_java\u001b[49m\u001b[43m(\u001b[49m\u001b[43mdataset\u001b[49m\u001b[43m)\u001b[49m\n\u001b[1;32m    382\u001b[0m     model \u001b[38;5;241m=\u001b[39m \u001b[38;5;28mself\u001b[39m\u001b[38;5;241m.\u001b[39m_create_model(java_model)\n\u001b[1;32m    383\u001b[0m     \u001b[38;5;28;01mreturn\u001b[39;00m \u001b[38;5;28mself\u001b[39m\u001b[38;5;241m.\u001b[39m_copyValues(model)\n",
      "File \u001b[0;32m/usr/local/spark/python/pyspark/ml/wrapper.py:378\u001b[0m, in \u001b[0;36mJavaEstimator._fit_java\u001b[0;34m(self, dataset)\u001b[0m\n\u001b[1;32m    375\u001b[0m \u001b[38;5;28;01massert\u001b[39;00m \u001b[38;5;28mself\u001b[39m\u001b[38;5;241m.\u001b[39m_java_obj \u001b[38;5;129;01mis\u001b[39;00m \u001b[38;5;129;01mnot\u001b[39;00m \u001b[38;5;28;01mNone\u001b[39;00m\n\u001b[1;32m    377\u001b[0m \u001b[38;5;28mself\u001b[39m\u001b[38;5;241m.\u001b[39m_transfer_params_to_java()\n\u001b[0;32m--> 378\u001b[0m \u001b[38;5;28;01mreturn\u001b[39;00m \u001b[38;5;28;43mself\u001b[39;49m\u001b[38;5;241;43m.\u001b[39;49m\u001b[43m_java_obj\u001b[49m\u001b[38;5;241;43m.\u001b[39;49m\u001b[43mfit\u001b[49m\u001b[43m(\u001b[49m\u001b[43mdataset\u001b[49m\u001b[38;5;241;43m.\u001b[39;49m\u001b[43m_jdf\u001b[49m\u001b[43m)\u001b[49m\n",
      "File \u001b[0;32m/usr/local/spark/python/lib/py4j-0.10.9.7-src.zip/py4j/java_gateway.py:1322\u001b[0m, in \u001b[0;36mJavaMember.__call__\u001b[0;34m(self, *args)\u001b[0m\n\u001b[1;32m   1316\u001b[0m command \u001b[38;5;241m=\u001b[39m proto\u001b[38;5;241m.\u001b[39mCALL_COMMAND_NAME \u001b[38;5;241m+\u001b[39m\\\n\u001b[1;32m   1317\u001b[0m     \u001b[38;5;28mself\u001b[39m\u001b[38;5;241m.\u001b[39mcommand_header \u001b[38;5;241m+\u001b[39m\\\n\u001b[1;32m   1318\u001b[0m     args_command \u001b[38;5;241m+\u001b[39m\\\n\u001b[1;32m   1319\u001b[0m     proto\u001b[38;5;241m.\u001b[39mEND_COMMAND_PART\n\u001b[1;32m   1321\u001b[0m answer \u001b[38;5;241m=\u001b[39m \u001b[38;5;28mself\u001b[39m\u001b[38;5;241m.\u001b[39mgateway_client\u001b[38;5;241m.\u001b[39msend_command(command)\n\u001b[0;32m-> 1322\u001b[0m return_value \u001b[38;5;241m=\u001b[39m \u001b[43mget_return_value\u001b[49m\u001b[43m(\u001b[49m\n\u001b[1;32m   1323\u001b[0m \u001b[43m    \u001b[49m\u001b[43manswer\u001b[49m\u001b[43m,\u001b[49m\u001b[43m \u001b[49m\u001b[38;5;28;43mself\u001b[39;49m\u001b[38;5;241;43m.\u001b[39;49m\u001b[43mgateway_client\u001b[49m\u001b[43m,\u001b[49m\u001b[43m \u001b[49m\u001b[38;5;28;43mself\u001b[39;49m\u001b[38;5;241;43m.\u001b[39;49m\u001b[43mtarget_id\u001b[49m\u001b[43m,\u001b[49m\u001b[43m \u001b[49m\u001b[38;5;28;43mself\u001b[39;49m\u001b[38;5;241;43m.\u001b[39;49m\u001b[43mname\u001b[49m\u001b[43m)\u001b[49m\n\u001b[1;32m   1325\u001b[0m \u001b[38;5;28;01mfor\u001b[39;00m temp_arg \u001b[38;5;129;01min\u001b[39;00m temp_args:\n\u001b[1;32m   1326\u001b[0m     \u001b[38;5;28;01mif\u001b[39;00m \u001b[38;5;28mhasattr\u001b[39m(temp_arg, \u001b[38;5;124m\"\u001b[39m\u001b[38;5;124m_detach\u001b[39m\u001b[38;5;124m\"\u001b[39m):\n",
      "File \u001b[0;32m/usr/local/spark/python/pyspark/errors/exceptions/captured.py:179\u001b[0m, in \u001b[0;36mcapture_sql_exception.<locals>.deco\u001b[0;34m(*a, **kw)\u001b[0m\n\u001b[1;32m    177\u001b[0m \u001b[38;5;28;01mdef\u001b[39;00m \u001b[38;5;21mdeco\u001b[39m(\u001b[38;5;241m*\u001b[39ma: Any, \u001b[38;5;241m*\u001b[39m\u001b[38;5;241m*\u001b[39mkw: Any) \u001b[38;5;241m-\u001b[39m\u001b[38;5;241m>\u001b[39m Any:\n\u001b[1;32m    178\u001b[0m     \u001b[38;5;28;01mtry\u001b[39;00m:\n\u001b[0;32m--> 179\u001b[0m         \u001b[38;5;28;01mreturn\u001b[39;00m \u001b[43mf\u001b[49m\u001b[43m(\u001b[49m\u001b[38;5;241;43m*\u001b[39;49m\u001b[43ma\u001b[49m\u001b[43m,\u001b[49m\u001b[43m \u001b[49m\u001b[38;5;241;43m*\u001b[39;49m\u001b[38;5;241;43m*\u001b[39;49m\u001b[43mkw\u001b[49m\u001b[43m)\u001b[49m\n\u001b[1;32m    180\u001b[0m     \u001b[38;5;28;01mexcept\u001b[39;00m Py4JJavaError \u001b[38;5;28;01mas\u001b[39;00m e:\n\u001b[1;32m    181\u001b[0m         converted \u001b[38;5;241m=\u001b[39m convert_exception(e\u001b[38;5;241m.\u001b[39mjava_exception)\n",
      "File \u001b[0;32m/usr/local/spark/python/lib/py4j-0.10.9.7-src.zip/py4j/protocol.py:334\u001b[0m, in \u001b[0;36mget_return_value\u001b[0;34m(answer, gateway_client, target_id, name)\u001b[0m\n\u001b[1;32m    330\u001b[0m             \u001b[38;5;28;01mraise\u001b[39;00m Py4JError(\n\u001b[1;32m    331\u001b[0m                 \u001b[38;5;124m\"\u001b[39m\u001b[38;5;124mAn error occurred while calling \u001b[39m\u001b[38;5;132;01m{0}\u001b[39;00m\u001b[38;5;132;01m{1}\u001b[39;00m\u001b[38;5;132;01m{2}\u001b[39;00m\u001b[38;5;124m. Trace:\u001b[39m\u001b[38;5;130;01m\\n\u001b[39;00m\u001b[38;5;132;01m{3}\u001b[39;00m\u001b[38;5;130;01m\\n\u001b[39;00m\u001b[38;5;124m\"\u001b[39m\u001b[38;5;241m.\u001b[39m\n\u001b[1;32m    332\u001b[0m                 \u001b[38;5;28mformat\u001b[39m(target_id, \u001b[38;5;124m\"\u001b[39m\u001b[38;5;124m.\u001b[39m\u001b[38;5;124m\"\u001b[39m, name, value))\n\u001b[1;32m    333\u001b[0m     \u001b[38;5;28;01melse\u001b[39;00m:\n\u001b[0;32m--> 334\u001b[0m         \u001b[38;5;28;01mraise\u001b[39;00m Py4JError(\n\u001b[1;32m    335\u001b[0m             \u001b[38;5;124m\"\u001b[39m\u001b[38;5;124mAn error occurred while calling \u001b[39m\u001b[38;5;132;01m{0}\u001b[39;00m\u001b[38;5;132;01m{1}\u001b[39;00m\u001b[38;5;132;01m{2}\u001b[39;00m\u001b[38;5;124m\"\u001b[39m\u001b[38;5;241m.\u001b[39m\n\u001b[1;32m    336\u001b[0m             \u001b[38;5;28mformat\u001b[39m(target_id, \u001b[38;5;124m\"\u001b[39m\u001b[38;5;124m.\u001b[39m\u001b[38;5;124m\"\u001b[39m, name))\n\u001b[1;32m    337\u001b[0m \u001b[38;5;28;01melse\u001b[39;00m:\n\u001b[1;32m    338\u001b[0m     \u001b[38;5;28mtype\u001b[39m \u001b[38;5;241m=\u001b[39m answer[\u001b[38;5;241m1\u001b[39m]\n",
      "\u001b[0;31mPy4JError\u001b[0m: An error occurred while calling o375.fit"
     ]
    },
    {
     "name": "stderr",
     "output_type": "stream",
     "text": [
      "ERROR:root:Exception while sending command.\n",
      "Traceback (most recent call last):\n",
      "  File \"/usr/local/spark/python/lib/py4j-0.10.9.7-src.zip/py4j/clientserver.py\", line 516, in send_command\n",
      "    raise Py4JNetworkError(\"Answer from Java side is empty\")\n",
      "py4j.protocol.Py4JNetworkError: Answer from Java side is empty\n",
      "\n",
      "During handling of the above exception, another exception occurred:\n",
      "\n",
      "Traceback (most recent call last):\n",
      "  File \"/usr/local/spark/python/lib/py4j-0.10.9.7-src.zip/py4j/java_gateway.py\", line 1038, in send_command\n",
      "    response = connection.send_command(command)\n",
      "               ^^^^^^^^^^^^^^^^^^^^^^^^^^^^^^^^\n",
      "  File \"/usr/local/spark/python/lib/py4j-0.10.9.7-src.zip/py4j/clientserver.py\", line 539, in send_command\n",
      "    raise Py4JNetworkError(\n",
      "py4j.protocol.Py4JNetworkError: Error while sending or receiving\n"
     ]
    }
   ],
   "source": [
    "model = kmeans.fit(cluster_df)"
   ]
  },
  {
   "cell_type": "code",
   "execution_count": null,
   "id": "47234e97",
   "metadata": {},
   "outputs": [],
   "source": [
    "model.summary.clusterSizes"
   ]
  },
  {
   "cell_type": "code",
   "execution_count": null,
   "id": "4ff0ab58",
   "metadata": {},
   "outputs": [],
   "source": [
    "transformed = model.transform(cluster_df).select(\"features\", \"prediction\")\n",
    "transformed.show()"
   ]
  },
  {
   "cell_type": "markdown",
   "id": "85b302f9",
   "metadata": {},
   "source": [
    "# silhouette_score\n",
    " \n",
    "- The best value is 1 and the worst value is -1. Values near 0 indicate overlapping clusters. Negative values generally indicate that a sample has been assigned to the wrong cluster, as a different cluster is more similar."
   ]
  },
  {
   "cell_type": "code",
   "execution_count": null,
   "id": "7a8e42c3",
   "metadata": {},
   "outputs": [
    {
     "data": {
      "text/plain": [
       "0.6787883188237845"
      ]
     },
     "execution_count": 68,
     "metadata": {},
     "output_type": "execute_result"
    }
   ],
   "source": [
    "evaluator = ClusteringEvaluator()\n",
    "evaluator.evaluate(transformed)"
   ]
  },
  {
   "cell_type": "code",
   "execution_count": 71,
   "id": "ce657d1b",
   "metadata": {},
   "outputs": [],
   "source": [
    "model_path = \"/sparkdata/kmeans_model\"\n",
    "model.save(model_path)"
   ]
  },
  {
   "cell_type": "code",
   "execution_count": null,
   "id": "33ba75c3",
   "metadata": {},
   "outputs": [],
   "source": [
    "spark.stop()"
   ]
  }
 ],
 "metadata": {
  "kernelspec": {
   "display_name": "Python 3 (ipykernel)",
   "language": "python",
   "name": "python3"
  },
  "language_info": {
   "codemirror_mode": {
    "name": "ipython",
    "version": 3
   },
   "file_extension": ".py",
   "mimetype": "text/x-python",
   "name": "python",
   "nbconvert_exporter": "python",
   "pygments_lexer": "ipython3",
   "version": "3.11.6"
  }
 },
 "nbformat": 4,
 "nbformat_minor": 5
}
